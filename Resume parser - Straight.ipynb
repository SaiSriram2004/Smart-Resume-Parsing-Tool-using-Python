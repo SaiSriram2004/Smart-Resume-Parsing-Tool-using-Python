{
 "cells": [
  {
   "cell_type": "markdown",
   "id": "1155b4a4",
   "metadata": {},
   "source": [
    "# Introduction:\n",
    "Resume parsing is a valuable tool used in various real-life scenarios to simplify and streamline the hiring process. Imagine you're a busy hiring manager or a human resources professional responsible for reviewing countless resumes. It can be quite overwhelming and time-consuming to manually read through each document and extract the relevant information. This is where a resume parser comes in.\n",
    "\n",
    "A resume parser is like a smart assistant that helps automate the initial screening of resumes. It uses advanced algorithms and natural language processing techniques to analyze the content of a resume and extract key details such as contact information, education history, work experience, skills, and more. This information is then organized into a structured format, making it easier for recruiters to evaluate candidates efficiently.\n",
    "\n",
    "With a resume parser, you can quickly scan through a large pool of resumes and identify the most suitable candidates based on specific criteria. It allows you to search for particular skills, experience levels, educational backgrounds, or any other qualifications you require for the job. The parser also eliminates the possibility of human error and ensures consistent and accurate data extraction.\n",
    "\n",
    "Furthermore, resume parsing can be integrated with applicant tracking systems (ATS) or other recruitment software. This integration enables seamless data transfer and eliminates the need for manual data entry, saving a significant amount of time and reducing administrative burdens. The parsed data can be easily sorted, filtered, and compared, enabling recruiters to shortlist candidates efficiently and make informed decisions.\n",
    "\n",
    "In summary, resume parsing technology acts as a valuable assistant for hiring professionals, making the resume screening process more efficient, accurate, and manageable. It simplifies the initial stages of recruitment, allowing recruiters to focus their time and energy on evaluating the most promising candidates and conducting more meaningful interactions during interviews and assessments."
   ]
  },
  {
   "cell_type": "code",
   "execution_count": 1,
   "id": "f67d15f8",
   "metadata": {
    "scrolled": true
   },
   "outputs": [
    {
     "name": "stdout",
     "output_type": "stream",
     "text": [
      "Pottennagari Sai Sriram Reddy\n",
      "\n",
      "saisriramreddy.04@gmail.com | 6304376705 | Kadapa\n",
      "\n",
      "GitHub | Linkedin | HackerRank\n",
      "\n",
      "Education\n",
      "\n",
      "Vellore Institute of Technology\n",
      "Bachelor of Technology Computer Science and Engineering\n",
      "CGPA: 9.33\n",
      "\n",
      "Narayana Junior College\n",
      "Intermediate\n",
      "Percentage: 98.8%\n",
      "\n",
      "Experience\n",
      "\n",
      "Chennai\n",
      "September 2021 - Present\n",
      "\n",
      "Raviryala,Hyderabad\n",
      "June 2019 - May 2021\n",
      "\n",
      "Event Management Club | Management Member\n",
      "\n",
      "VIT Chennai | Feb 2023 - Present\n",
      "\n",
      "(cid:136) Managed event planning activities, including logistics and team coordination.\n",
      "(cid:136) Implemented e(cid:30)cient event timelines, schedules, and action plans.\n",
      "(cid:136) Led and supervised a diverse team, fostering e(cid:27)ective communication and teamwork.\n",
      "(cid:136) Actively contributed to the success of the club’s initiatives through e(cid:27)ective teamwork.\n",
      "\n",
      "AIMLABS | Software Intern\n",
      "\n",
      "Hyderabad | September 2023 - Present\n",
      "\n",
      "(cid:136) Gained hands-on experience with cutting-edge technologies like VueJS , Quasar Framework and\n",
      "\n",
      "TailwindCSS.\n",
      "\n",
      "(cid:136) Work in a collaborative and innovative environment.\n",
      "(cid:136) Mentorship from experienced professionals.\n",
      "(cid:136) Working on MissionControl Project\n",
      "\n",
      "Skills\n",
      "\n",
      "Programming Languages: C , C++ , Java , Html , Css , JavaScript\n",
      "VueJS , ReactJS , NodeJS , TailwindCSS\n",
      "Libraries/Frameworks:\n",
      "Hackerrank, Leetcode, CodeChef\n",
      "Tools / Platforms:\n",
      "Databases:\n",
      "MySql , MongoDB\n",
      "\n",
      "Projects / Open-Source\n",
      "\n",
      "Basic Calculator | Link\n",
      "\n",
      "(cid:136) The Calculator Vue Project is a web-based calculator application.\n",
      "(cid:136) I have developed it using the Vue.js framework, o(cid:27)ering a straightforward and e(cid:30)cient solution for\n",
      "\n",
      "performing essential arithmetic calculations.\n",
      "\n",
      "Vue JS, JavaScript, HTML\n",
      "\n",
      "MissonControl Project (Present)\n",
      "\n",
      "VueJS, Quasar, TailwindCSS\n",
      "\n",
      "(cid:136) The Project is used to Store the information of the game session.\n",
      "(cid:136) Using VueJS, Quasar Framework we have developed an application.\n",
      "\n",
      "Certifications\n",
      "\n",
      "(cid:136) Spoken Tutorial - Python 3.4.3 Training - Indian Institute of Technology, Bombay\n",
      "(cid:136) Spoken Tutorial - C Training - Indian Institute of Technology, Bombay\n",
      "(cid:136) Spoken Tutorial - Advanced Cpp Training - Indian Institute of Technology, Bombay\n",
      "(cid:136) SQL (Advanced) Certi(cid:28)cate - HackerRank\n",
      "(cid:136) Intro to Programming - Kaggle\n",
      "(cid:136) Accenture Developer Virtual Experience Program - Accenture\n",
      "(cid:136) Data Analytics and Visualization Job Simulation - Accenture\n",
      "(cid:136) AWS Academy Graduate - AWS Academy Cloud Foundations - Amazon Web Services\n",
      "\n",
      "Honors & Awards\n",
      "\n",
      "Participated in a Hackathon Conducted by Scope School\n",
      "\n",
      "\f\n"
     ]
    }
   ],
   "source": [
    "from pdfminer.high_level import extract_text\n",
    " \n",
    "def extract_text_from_pdf(pdf_path):\n",
    "    return extract_text(pdf_path)\n",
    " \n",
    "if __name__ == '__main__':\n",
    "    print(extract_text_from_pdf(r\"resume1.pdf\"))"
   ]
  },
  {
   "cell_type": "markdown",
   "id": "73ff19bb",
   "metadata": {},
   "source": [
    "# Exctracting Name from Resume:\n",
    "\n",
    "The code snippet demonstrates a function that extracts text from a PDF file using pdfminer library. It then utilizes a regular expression pattern to extract a potential name from the extracted text. If a name is found, it is printed; otherwise, a \"Name not found\" message is displayed. This code can be used as a starting point for resume parsing tasks to extract names from resumes."
   ]
  },
  {
   "cell_type": "code",
   "execution_count": 2,
   "id": "82355882",
   "metadata": {},
   "outputs": [
    {
     "name": "stdout",
     "output_type": "stream",
     "text": [
      "Name: Pottennagari Sai Sriram Reddy\n"
     ]
    }
   ],
   "source": [
    "import pdfminer \n",
    "import re\n",
    "\n",
    "def extract_text_from_pdf(pdf_path):\n",
    "    return extract_text(pdf_path)\n",
    "\n",
    "def extract_name_from_resume(text):\n",
    "    name = None\n",
    "\n",
    "    # Use regex pattern to find a potential name\n",
    "    pattern = r\"([A-Z][a-z]+(?: [A-Z][a-z]+)+)\"\n",
    "    match = re.search(pattern, text)\n",
    "    if match:\n",
    "        name = match.group()\n",
    "\n",
    "    return name\n",
    "\n",
    "if __name__ == '__main__':\n",
    "    text = extract_text_from_pdf(r\"resume1.pdf\")\n",
    "    name = extract_name_from_resume(text)\n",
    "\n",
    "    if name:\n",
    "        print(\"Name:\", name)\n",
    "    else:\n",
    "        print(\"Name not found\")\n"
   ]
  },
  {
   "cell_type": "markdown",
   "id": "90c97198",
   "metadata": {},
   "source": [
    "# Exctract Contact Number:\n",
    "\n",
    "The provided code snippet defines a function to extract text from a PDF file using pdfminer. It also includes another function to extract a potential contact number from the extracted text using a regular expression pattern. The code then calls these functions to extract the contact number from a specific resume file. If a contact number is found, it is printed; otherwise, a \"Contact Number not found\" message is displayed. This code can be used as a starting point for extracting contact numbers from resumes."
   ]
  },
  {
   "cell_type": "code",
   "execution_count": 3,
   "id": "5a1ea1cd",
   "metadata": {},
   "outputs": [
    {
     "name": "stdout",
     "output_type": "stream",
     "text": [
      "Contact Number: 6304376705\n"
     ]
    }
   ],
   "source": [
    "def extract_text_from_pdf(pdf_path):\n",
    "    return extract_text(pdf_path)\n",
    "\n",
    "def extract_contact_number_from_resume(text):\n",
    "    contact_number = None\n",
    "\n",
    "    # Use regex pattern to find a potential contact number\n",
    "    pattern = r\"\\b(?:\\+?\\d{1,3}[-.\\s]?)?\\(?\\d{3}\\)?[-.\\s]?\\d{3}[-.\\s]?\\d{4}\\b\"\n",
    "    match = re.search(pattern, text)\n",
    "    if match:\n",
    "        contact_number = match.group()\n",
    "\n",
    "    return contact_number\n",
    "\n",
    "if __name__ == '__main__':\n",
    "    text = extract_text_from_pdf(r\"resume1.pdf\")\n",
    "    contact_number = extract_contact_number_from_resume(text)\n",
    "\n",
    "    if contact_number:\n",
    "        print(\"Contact Number:\", contact_number)\n",
    "    else:\n",
    "        print(\"Contact Number not found\")"
   ]
  },
  {
   "cell_type": "markdown",
   "id": "c3499079",
   "metadata": {},
   "source": [
    "# Exctract Email Id : \n",
    "\n",
    "The provided code snippet defines a function extract_text_from_pdf() to extract text from a PDF file using pdfminer. It also includes another function extract_email_from_resume() to extract a potential email address from the extracted text using a regular expression pattern.\n",
    "\n",
    "The code then calls these functions to extract the email address from a specific resume file. If an email address is found, it is printed as \"Email: [email address]\"; otherwise, a \"Email not found\" message is displayed.\n",
    "\n",
    "This code can be used as a starting point for extracting email addresses from resumes."
   ]
  },
  {
   "cell_type": "code",
   "execution_count": 4,
   "id": "92f0f6d6",
   "metadata": {},
   "outputs": [
    {
     "name": "stdout",
     "output_type": "stream",
     "text": [
      "Email: saisriramreddy.04@gmail.com\n"
     ]
    }
   ],
   "source": [
    "\n",
    "def extract_text_from_pdf(pdf_path):\n",
    "    return extract_text(pdf_path)\n",
    "\n",
    "def extract_email_from_resume(text):\n",
    "    email = None\n",
    "\n",
    "    # Use regex pattern to find a potential email address\n",
    "    pattern = r\"\\b[A-Za-z0-9._%+-]+@[A-Za-z0-9.-]+\\.[A-Za-z]{2,}\\b\"\n",
    "    match = re.search(pattern, text)\n",
    "    if match:\n",
    "        email = match.group()\n",
    "\n",
    "    return email\n",
    "\n",
    "if __name__ == '__main__':\n",
    "    text = extract_text_from_pdf(r\"resume1.pdf\")\n",
    "    email = extract_email_from_resume(text)\n",
    "\n",
    "    if email:\n",
    "        print(\"Email:\", email)\n",
    "    else:\n",
    "        print(\"Email not found\")\n"
   ]
  },
  {
   "cell_type": "markdown",
   "id": "3540ffd7",
   "metadata": {},
   "source": [
    "# Exctracting Skills:\n",
    "\n",
    "The provided code snippet includes a function extract_text_from_pdf() that extracts text from a PDF file using pdfminer. Additionally, it defines a function extract_skills_from_resume() that takes the extracted text and a list of predefined skills as input.\n",
    "\n",
    "The extract_skills_from_resume() function searches for each skill in the provided list within the resume text using regular expressions. If a skill is found, it is added to the skills list. Finally, the function returns the list of extracted skills.\n",
    "\n",
    "In the code's main section, the extract_text_from_pdf() function is called to extract the text from a specific resume file. A predefined list of skills is defined, and the extract_skills_from_resume() function is invoked with the extracted text and skills list as arguments. The extracted skills are then printed as \"Skills: [extracted skills]\" if any skills are found, otherwise, a \"No skills found\" message is displayed.\n",
    "\n",
    "This code can be utilized to extract skills from resumes by providing a list of predefined skills and the resume text. It serves as a basic framework for skill extraction and can be extended or customized to meet specific requirements."
   ]
  },
  {
   "cell_type": "code",
   "execution_count": 5,
   "id": "90a413b9",
   "metadata": {},
   "outputs": [
    {
     "name": "stdout",
     "output_type": "stream",
     "text": [
      "Skills: ['C', 'Java', 'Html', 'Css', 'JavaScript', 'Python', 'MySql', 'MongoDB', 'Communication', 'SQL']\n"
     ]
    }
   ],
   "source": [
    "def extract_text_from_pdf(pdf_path):\n",
    "    return extract_text(pdf_path)\n",
    "\n",
    "def extract_skills_from_resume(text, skills_list):\n",
    "    skills = []\n",
    "\n",
    "    # Search for skills in the resume text\n",
    "    for skill in skills_list:\n",
    "        pattern = r\"\\b{}\\b\".format(re.escape(skill))\n",
    "        match = re.search(pattern, text, re.IGNORECASE)\n",
    "        if match:\n",
    "            skills.append(skill)\n",
    "\n",
    "    return skills\n",
    "\n",
    "if __name__ == '__main__':\n",
    "    text = extract_text_from_pdf(r\"resume1.pdf\")\n",
    "\n",
    "    # List of predefined skills\n",
    "    skills_list = ['C','C++','Java','Html','Css','JavaScript','Python','MySql','MongoDB','Data Analysis', 'Machine Learning', 'Communication', 'Project Management', 'Deep Learning', 'SQL', 'Tableau']\n",
    "\n",
    "    extracted_skills = extract_skills_from_resume(text, skills_list)\n",
    "\n",
    "    if extracted_skills:\n",
    "        print(\"Skills:\", extracted_skills)\n",
    "    else:\n",
    "        print(\"No skills found\")\n"
   ]
  },
  {
   "cell_type": "markdown",
   "id": "44df8258",
   "metadata": {},
   "source": [
    "# Extracting Education:\n",
    "\n",
    "The provided code snippet consists of a function extract_text_from_pdf() that extracts text from a PDF file using the pdfminer library. Additionally, it includes a function extract_education_from_resume() that takes the extracted text as input.\n",
    "\n",
    "The extract_education_from_resume() function utilizes a regular expression pattern to search for education information in the resume text. The pattern is designed to match various education degrees such as BSc, B.Tech, M.Tech, Ph.D., Bachelor's, Master's, and Ph.D., followed by the corresponding field of study.\n",
    "\n",
    "Within the code's main section, the extract_text_from_pdf() function is invoked to extract the text from a specific resume file. Then, the extract_education_from_resume() function is called with the extracted text as an argument. If any education information is found, it is appended to the education list. Finally, the list of extracted education details is printed as \"Education: [extracted_education]\" if education information is found. Otherwise, a \"No education information found\" message is displayed.\n",
    "\n",
    "This code provides a basic framework for extracting education information from resumes using regular expressions. It can be further customized or expanded to handle additional patterns or extract more specific details related to education."
   ]
  },
  {
   "cell_type": "code",
   "execution_count": 6,
   "id": "72ff2cc1",
   "metadata": {},
   "outputs": [
    {
     "name": "stdout",
     "output_type": "stream",
     "text": [
      "Education: ['Bachelor of Technology Computer Science and Engineering\\nCGPA']\n"
     ]
    }
   ],
   "source": [
    "def extract_text_from_pdf(pdf_path):\n",
    "    return extract_text(pdf_path)\n",
    "\n",
    "def extract_education_from_resume(text):\n",
    "    education = []\n",
    "\n",
    "    # Use regex pattern to find education information\n",
    "    pattern = r\"(?i)(?:(?:Bachelor|B\\.S\\.|B\\.A\\.|Master|M\\.S\\.|M\\.A\\.|Ph\\.D\\.)\\s(?:[A-Za-z]+\\s)*[A-Za-z]+)\"\n",
    "    matches = re.findall(pattern, text)\n",
    "    for match in matches:\n",
    "        education.append(match.strip())\n",
    "\n",
    "    return education\n",
    "\n",
    "if __name__ == '__main__':\n",
    "    text = extract_text_from_pdf(r\"resume1.pdf\")\n",
    "\n",
    "    extracted_education = extract_education_from_resume(text)\n",
    "    if extracted_education:\n",
    "        print(\"Education:\", extracted_education)\n",
    "    else:\n",
    "        print(\"No education information found\")\n"
   ]
  },
  {
   "cell_type": "code",
   "execution_count": 7,
   "id": "3a80890c",
   "metadata": {},
   "outputs": [
    {
     "name": "stdout",
     "output_type": "stream",
     "text": [
      "Education: ['Bachelor of Technology Computer Science and Engineering\\nCGPA']\n"
     ]
    }
   ],
   "source": [
    "def extract_text_from_pdf(pdf_path):\n",
    "    return extract_text(pdf_path)\n",
    "\n",
    "def extract_education_from_resume(text):\n",
    "    education = []\n",
    "\n",
    "    # Use regex pattern to find education information\n",
    "    pattern = r\"(?i)(?:Bsc|\\bB\\.\\w+|\\bM\\.\\w+|\\bPh\\.D\\.\\w+|\\bBachelor(?:'s)?|\\bMaster(?:'s)?|\\bPh\\.D)\\s(?:\\w+\\s)*\\w+\"\n",
    "    matches = re.findall(pattern, text)\n",
    "    for match in matches:\n",
    "        education.append(match.strip())\n",
    "\n",
    "    return education\n",
    "\n",
    "if __name__ == '__main__':\n",
    "    text = extract_text_from_pdf(r\"resume1.pdf\")\n",
    "\n",
    "    extracted_education = extract_education_from_resume(text)\n",
    "    if extracted_education:\n",
    "        print(\"Education:\", extracted_education)\n",
    "    else:\n",
    "        print(\"No education information found\")\n"
   ]
  },
  {
   "cell_type": "code",
   "execution_count": 8,
   "id": "fd98bce9",
   "metadata": {},
   "outputs": [
    {
     "name": "stdout",
     "output_type": "stream",
     "text": [
      "No data science education found\n"
     ]
    }
   ],
   "source": [
    "import spacy\n",
    "\n",
    "nlp = spacy.load('en_core_web_sm')\n",
    "\n",
    "def extract_data_science_education(text):\n",
    "    doc = nlp(text)\n",
    "\n",
    "    education = []\n",
    "\n",
    "    for ent in doc.ents:\n",
    "        if ent.label_ == 'ORG' and 'Data Science' in ent.text:\n",
    "            education.append(ent.text)\n",
    "\n",
    "    return education\n",
    "\n",
    "if __name__ == '__main__':\n",
    "    text = extract_text_from_pdf(r\"resume1.pdf\")\n",
    "\n",
    "    extracted_education = extract_data_science_education(text)\n",
    "    if extracted_education:\n",
    "        print(\"Data Science Education:\", extracted_education)\n",
    "    else:\n",
    "        print(\"No data science education found\")\n"
   ]
  },
  {
   "cell_type": "code",
   "execution_count": 12,
   "id": "dedc044f",
   "metadata": {},
   "outputs": [
    {
     "name": "stdout",
     "output_type": "stream",
     "text": [
      "College: Narayana Junior College\n"
     ]
    }
   ],
   "source": [
    "\n",
    "def extract_college_name(text):\n",
    "    lines = text.split('\\n')\n",
    "    college_pattern = r\"(?i).*college.*\"\n",
    "    for line in lines:\n",
    "        if re.match(college_pattern, line):\n",
    "            return line.strip()\n",
    "    return None\n",
    "if __name__ == '__main__':\n",
    "    text = extract_text_from_pdf(r\"resume1.pdf\")\n",
    "\n",
    "\n",
    "college_name = extract_college_name(text)\n",
    "if college_name:\n",
    "    print(\"College:\", college_name)\n",
    "else:\n",
    "    print(\"College name not found.\")\n"
   ]
  },
  {
   "cell_type": "markdown",
   "id": "eb81c782",
   "metadata": {},
   "source": [
    "# Conclusion:\n",
    "\n",
    "In conclusion, the provided code snippets demonstrate a basic implementation of a resume parser. Each code snippet focuses on extracting specific information from a resume, such as name, contact number, email, skills, and education.\n",
    "\n",
    "The resume parser utilizes various techniques, including regular expressions and text extraction from PDF files. It showcases how these techniques can be applied to automate the extraction of important details from resumes.\n",
    "\n",
    "However, it's important to note that the code snippets provide a starting point and can be further enhanced and customized based on specific requirements. For example, additional patterns or algorithms can be implemented to improve the accuracy of information extraction.\n",
    "\n",
    "Resume parsing plays a vital role in automating the initial screening process for job applications. By extracting key details from resumes, it saves time and effort for recruiters and allows for efficient filtering of candidates.\n",
    "\n",
    "As technology advances, resume parsing algorithms can be further refined to handle more complex resume formats, languages, and diverse information extraction requirements. This will help in building more sophisticated and accurate resume parsing systems.\n",
    "\n",
    "Overall, the provided code snippets serve as a foundation for developing a resume parser and demonstrate the potential of automating the extraction of essential information from resumes, streamlining the recruitment process, and improving efficiency in candidate evaluation."
   ]
  }
 ],
 "metadata": {
  "kernelspec": {
   "display_name": "Python 3 (ipykernel)",
   "language": "python",
   "name": "python3"
  },
  "language_info": {
   "codemirror_mode": {
    "name": "ipython",
    "version": 3
   },
   "file_extension": ".py",
   "mimetype": "text/x-python",
   "name": "python",
   "nbconvert_exporter": "python",
   "pygments_lexer": "ipython3",
   "version": "3.10.2"
  }
 },
 "nbformat": 4,
 "nbformat_minor": 5
}
